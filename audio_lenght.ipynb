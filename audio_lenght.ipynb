{
 "cells": [
  {
   "cell_type": "code",
   "execution_count": 59,
   "id": "f58713ef-ff68-4b0f-9afc-486d95c2b72c",
   "metadata": {
    "tags": []
   },
   "outputs": [],
   "source": [
    "from pydub.utils import mediainfo\n",
    "import os\n",
    "\n",
    "def audio_info(file_path):\n",
    "    audio_info = mediainfo(file_path)\n",
    "    duration_in_seconds = float(audio_info['duration'])\n",
    "    sampling_rate = int(audio_info['sample_rate'])\n",
    "    duration, sample_rate = get_audio_info(file_path)\n",
    "    return np.round(duration,decimals=3)\n"
   ]
  },
  {
   "cell_type": "code",
   "execution_count": 60,
   "id": "d4e8e607-404d-4e92-9683-ac630dd95494",
   "metadata": {
    "tags": []
   },
   "outputs": [],
   "source": [
    "files_list = os.listdir('./psychopy_final/audios/')"
   ]
  },
  {
   "cell_type": "code",
   "execution_count": 61,
   "id": "2f8d544b-ed80-4770-b25f-7138213a2fb8",
   "metadata": {
    "tags": []
   },
   "outputs": [],
   "source": [
    "mp3_files = lambda files_list: [file for file in files_list if 'mp3' in file]"
   ]
  },
  {
   "cell_type": "code",
   "execution_count": 62,
   "id": "d75baae0-1c4d-40df-a397-725753af4c7a",
   "metadata": {
    "tags": []
   },
   "outputs": [],
   "source": [
    "files = mp3_files(files_list)"
   ]
  },
  {
   "cell_type": "code",
   "execution_count": 80,
   "id": "9f1e207c-de0f-4832-814d-5f432418176b",
   "metadata": {
    "tags": []
   },
   "outputs": [
    {
     "name": "stdout",
     "output_type": "stream",
     "text": [
      "dilemma_controllo_main_16_m.mp3      28.264\n",
      "dilemma_controllo_main_tutorial.mp3      14.707\n",
      "dilemma_controllo_main_4_m.mp3      13.74\n",
      "dilemma_controllo_main_2_m.mp3      24.085\n",
      "dilemma_controllo_main_18_m.mp3      27.82\n",
      "dilemma_controllo_main_5_m.mp3      23.719\n",
      "dilemma_controllo_main_7_m.mp3      28.264\n",
      "dilemma_controllo_main_3_m.mp3      15.595\n",
      "dilemma_controllo_main_1_m.mp3      14.524\n",
      "dilemma_controllo_choice_7_m.mp3      2.586\n",
      "dilemma_controllo_choice_tutorial.mp3      2.116\n",
      "dilemma_controllo_choice_5_m.mp3      1.907\n",
      "dilemma_controllo_choice_1_m.mp3      1.985\n",
      "dilemma_controllo_choice_18_m.mp3      3.788\n",
      "dilemma_controllo_choice_3_m.mp3      2.508\n",
      "dilemma_controllo_choice_4_m.mp3      2.351\n",
      "dilemma_controllo_choice_2_m.mp3      2.926\n",
      "dilemma_controllo_choice_16_m.mp3      9.195\n"
     ]
    }
   ],
   "source": [
    "for file in files:\n",
    "    if 'main' in file:\n",
    "        print(file,'    ',audio_info('./psychopy_final/audios/'+file))\n",
    "for file in files:\n",
    "    if 'choice' in file:\n",
    "        print(file,'    ',audio_info('./psychopy_final/audios/'+file))\n"
   ]
  },
  {
   "cell_type": "code",
   "execution_count": 76,
   "id": "e5eaa563-aa59-4166-9e9a-a2eb46e91629",
   "metadata": {},
   "outputs": [],
   "source": [
    "from PIL import Image\n",
    "import PIL\n",
    "\n",
    "def riduci_dimensioni_immagine(path_immagine):\n",
    "    # Apre l'immagine\n",
    "    img = Image.open(path_immagine)\n",
    "    \n",
    "    # Ottiene le dimensioni attuali dell'immagine\n",
    "    larghezza_originale, altezza_originale = img.size\n",
    "    \n",
    "    # Calcola la nuova altezza basandosi sulla proporzione\n",
    "    nuova_larghezza = 1920\n",
    "    nuova_altezza = int(altezza_originale / (larghezza_originale / nuova_larghezza))\n",
    "    \n",
    "    # Ridimensiona l'immagine\n",
    "    img_ridimensionata = img.resize((nuova_larghezza, nuova_altezza), PIL.Image.Resampling.LANCZOS)\n",
    "    \n",
    "    # Sovrascrive l'immagine originale con quella ridimensionata\n",
    "    img_ridimensionata.save(path_immagine)\n"
   ]
  },
  {
   "cell_type": "code",
   "execution_count": 79,
   "id": "cf812ef6-5819-42e6-9909-4ad582ba5484",
   "metadata": {},
   "outputs": [
    {
     "ename": "TypeError",
     "evalue": "riduci_dimensioni_immagine() missing 1 required positional argument: 'path_immagine'",
     "output_type": "error",
     "traceback": [
      "\u001b[0;31m---------------------------------------------------------------------------\u001b[0m",
      "\u001b[0;31mTypeError\u001b[0m                                 Traceback (most recent call last)",
      "Cell \u001b[0;32mIn[79], line 1\u001b[0m\n\u001b[0;32m----> 1\u001b[0m \u001b[43mriduci_dimensioni_immagine\u001b[49m\u001b[43m(\u001b[49m\u001b[43m)\u001b[49m\n",
      "\u001b[0;31mTypeError\u001b[0m: riduci_dimensioni_immagine() missing 1 required positional argument: 'path_immagine'"
     ]
    }
   ],
   "source": [
    "riduci_dimensioni_immagine()"
   ]
  },
  {
   "cell_type": "code",
   "execution_count": 1,
   "id": "3840c70f-fe15-42f3-9a03-e38989aae817",
   "metadata": {},
   "outputs": [
    {
     "name": "stdout",
     "output_type": "stream",
     "text": [
      "Requirement already satisfied: pydub in /Users/daniele/anaconda3/envs/eeg/lib/python3.10/site-packages (0.25.1)\n",
      "Note: you may need to restart the kernel to use updated packages.\n"
     ]
    }
   ],
   "source": [
    "from os import path\n",
    "from pydub import AudioSegment\n",
    "\n",
    "# files                                                                         \n",
    "src = \"transcript.mp3\"\n",
    "dst = \"test.wav\"\n",
    "\n",
    "# convert wav to mp3                                                            \n",
    "sound = AudioSegment.from_mp3(src)\n",
    "sound.export(dst, format=\"wav\")"
   ]
  },
  {
   "cell_type": "code",
   "execution_count": null,
   "id": "878afdc2-556c-46b2-9954-f50e0c4d47ad",
   "metadata": {},
   "outputs": [],
   "source": []
  }
 ],
 "metadata": {
  "kernelspec": {
   "display_name": "Python 3 (ipykernel)",
   "language": "python",
   "name": "python3"
  },
  "language_info": {
   "codemirror_mode": {
    "name": "ipython",
    "version": 3
   },
   "file_extension": ".py",
   "mimetype": "text/x-python",
   "name": "python",
   "nbconvert_exporter": "python",
   "pygments_lexer": "ipython3",
   "version": "3.10.9"
  }
 },
 "nbformat": 4,
 "nbformat_minor": 5
}
